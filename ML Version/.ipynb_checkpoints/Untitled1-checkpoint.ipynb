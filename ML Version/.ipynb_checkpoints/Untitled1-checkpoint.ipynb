{
 "cells": [
  {
   "cell_type": "code",
   "execution_count": 10,
   "metadata": {},
   "outputs": [],
   "source": [
    "import os\n",
    "\n",
    "\n",
    "def load_data(path):\n",
    "    \"\"\"\n",
    "    Load dataset\n",
    "    \"\"\"\n",
    "    input_file = os.path.join(path)\n",
    "    with open(input_file, \"r\") as f:\n",
    "        data = f.read()\n",
    "\n",
    "    return data.split('\\n')"
   ]
  },
  {
   "cell_type": "code",
   "execution_count": 11,
   "metadata": {},
   "outputs": [],
   "source": [
    "english_sentences = load_data('./en.txt')\n",
    "frensh_sentences = load_data('./fr.txt')"
   ]
  },
  {
   "cell_type": "code",
   "execution_count": 12,
   "metadata": {},
   "outputs": [
    {
     "data": {
      "text/plain": [
       "['ï»¿Membership of Parliament: see Minutes',\n",
       " 'Approval of Minutes of previous sitting: see Minutes',\n",
       " 'Membership of Parliament: see Minutes',\n",
       " 'Verification of credentials: see Minutes',\n",
       " 'Documents received: see Minutes',\n",
       " 'Written statements and oral questions (tabling): see Minutes',\n",
       " 'Petitions: see Minutes',\n",
       " 'Texts of agreements forwarded by the Council: see Minutes',\n",
       " \"Action taken on Parliament's resolutions: see Minutes\",\n",
       " 'Agenda for next sitting: see Minutes',\n",
       " 'Closure of sitting',\n",
       " '(The sitting was closed at 7.45 p.m.)',\n",
       " 'Election of Vice-Presidents of the European Parliament (deadline for submitting nominations): see Minutes',\n",
       " '(The sitting was suspended at 12.40 p.m. and resumed at 3.00 p.m.)',\n",
       " 'Election of Quaestors of the European Parliament (deadline for submitting nominations): see Minutes',\n",
       " '(The sitting was suspended at 3.25 p.m. and resumed at 6.00 p.m.)',\n",
       " 'Agenda for next sitting: see Minutes',\n",
       " 'Closure of sitting',\n",
       " '(The sitting was closed at 6.15 p.m.)',\n",
       " 'Opening of the sitting',\n",
       " '(The sitting was opened at 9.35 a.m.)',\n",
       " 'Documents received: see Minutes',\n",
       " 'Approval of Minutes of previous sitting: see Minutes',\n",
       " 'Membership of Parliament: see Minutes',\n",
       " 'Membership of committees (deadline for tabling amendments): see Minutes',\n",
       " '(The sitting was suspended at 7 p.m. and resumed at 9 p.m.)',\n",
       " 'Agenda for next sitting: see Minutes',\n",
       " 'Closure of sitting',\n",
       " '(The sitting was suspended at 23.25 p.m.)',\n",
       " 'Documents received: see Minutes',\n",
       " 'Communication of Council common positions: see Minutes',\n",
       " '(The sitting was suspended at 11.35 a.m. and resumed for voting time at noon)',\n",
       " 'Approval of Minutes of previous sitting: see Minutes',\n",
       " 'Committee of Inquiry into the crisis of the Equitable Life Assurance Society (extension of mandate): see Minutes',\n",
       " 'Announcement by the President: see Minutes',\n",
       " '1.',\n",
       " 'Membership of committees (vote)',\n",
       " '2.',\n",
       " 'Amendment of the ACP-EC Partnership Agreement (vote)',\n",
       " '4.',\n",
       " 'Certification of train drivers operating locomotives and trains on the railway system in the Community (vote)',\n",
       " '6.',\n",
       " 'Law applicable to non-contractual obligations (\"ROME II\") (vote)',\n",
       " '8.',\n",
       " 'Seventh and eighth annual reports on arms exports (vote)',\n",
       " 'Corrections to votes and voting intentions: see Minutes',\n",
       " 'Membership of committees and delegations: see Minutes',\n",
       " 'Request for waiver of parliamentary immunity: see Minutes',\n",
       " 'Decisions concerning certain documents: see Minutes',\n",
       " 'Written statements for entry in the register (Rule 116): see Minutes',\n",
       " 'Forwarding of texts adopted during the sitting: see Minutes',\n",
       " 'Dates for next sittings: see Minutes',\n",
       " 'Adjournment of the session',\n",
       " 'I declare the session of the European Parliament adjourned.',\n",
       " '(The sitting was closed at 1 p.m.)',\n",
       " 'Approval of Minutes of previous sitting: see Minutes',\n",
       " 'Membership of Parliament: see Minutes',\n",
       " 'Request for the defence of parliamentary immunity: see Minutes',\n",
       " 'Appointments to committees (proposal by the Conference of Presidents): see Minutes',\n",
       " 'Documents received: see Minutes']"
      ]
     },
     "execution_count": 12,
     "metadata": {},
     "output_type": "execute_result"
    }
   ],
   "source": [
    "english_sentences"
   ]
  }
 ],
 "metadata": {
  "kernelspec": {
   "display_name": "Python 3",
   "language": "python",
   "name": "python3"
  },
  "language_info": {
   "codemirror_mode": {
    "name": "ipython",
    "version": 3
   },
   "file_extension": ".py",
   "mimetype": "text/x-python",
   "name": "python",
   "nbconvert_exporter": "python",
   "pygments_lexer": "ipython3",
   "version": "3.6.5"
  }
 },
 "nbformat": 4,
 "nbformat_minor": 2
}
