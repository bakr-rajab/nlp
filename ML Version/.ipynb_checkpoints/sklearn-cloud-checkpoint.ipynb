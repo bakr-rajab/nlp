{
 "cells": [
  {
   "cell_type": "code",
   "execution_count": 0,
   "metadata": {
    "colab": {},
    "colab_type": "code",
    "id": "hmbRdKwpEj54"
   },
   "outputs": [],
   "source": [
    "import pandas as pd\n",
    "from sklearn.model_selection import train_test_split\n",
    "from sklearn.feature_extraction.text import CountVectorizer\n",
    "from sklearn.feature_extraction.text import TfidfTransformer\n"
   ]
  },
  {
   "cell_type": "code",
   "execution_count": 0,
   "metadata": {
    "colab": {},
    "colab_type": "code",
    "id": "QZ8lpr8_Olsj"
   },
   "outputs": [],
   "source": [
    "!wget -cq http://www.statmt.org/europarl/v7/fr-en.tgz\n"
   ]
  },
  {
   "cell_type": "code",
   "execution_count": 8,
   "metadata": {
    "colab": {
     "base_uri": "https://localhost:8080/",
     "height": 51
    },
    "colab_type": "code",
    "id": "1xZK-8IKQvt2",
    "outputId": "d9e5a894-a100-4c30-9191-51034fa577f0"
   },
   "outputs": [
    {
     "name": "stdout",
     "output_type": "stream",
     "text": [
      "europarl-v7.fr-en.en\n",
      "europarl-v7.fr-en.fr\n"
     ]
    }
   ],
   "source": [
    "!tar -xvzf /content/fr-en.tgz"
   ]
  },
  {
   "cell_type": "code",
   "execution_count": 0,
   "metadata": {
    "colab": {},
    "colab_type": "code",
    "id": "_iQ9yTEURPlD"
   },
   "outputs": [],
   "source": [
    "# en_data = pd.read_csv(\"/content/europarl-v7.it-en.it\", delimiter=\"\\n\", header=None,error_bad_lines=False)\n",
    "# en_data.head()"
   ]
  },
  {
   "cell_type": "code",
   "execution_count": 9,
   "metadata": {
    "colab": {
     "base_uri": "https://localhost:8080/",
     "height": 258
    },
    "colab_type": "code",
    "id": "1SQXIylKGofv",
    "outputId": "9ec59d47-a3b2-4240-add3-6df163bf58df"
   },
   "outputs": [
    {
     "name": "stderr",
     "output_type": "stream",
     "text": [
      "b'Skipping line 6945: expected 1 fields, saw 2\\nSkipping line 7277: expected 1 fields, saw 2\\nSkipping line 33158: expected 1 fields, saw 2\\nSkipping line 38494: expected 1 fields, saw 2\\nSkipping line 54570: expected 1 fields, saw 3\\nSkipping line 54572: expected 1 fields, saw 2\\nSkipping line 87358: expected 1 fields, saw 2\\nSkipping line 90384: expected 1 fields, saw 2\\nSkipping line 90386: expected 1 fields, saw 2\\nSkipping line 105798: expected 1 fields, saw 2\\nSkipping line 106458: expected 1 fields, saw 2\\nSkipping line 131517: expected 1 fields, saw 2\\nSkipping line 131519: expected 1 fields, saw 2\\nSkipping line 136696: expected 1 fields, saw 2\\nSkipping line 136699: expected 1 fields, saw 2\\nSkipping line 139121: expected 1 fields, saw 2\\nSkipping line 142552: expected 1 fields, saw 2\\nSkipping line 150441: expected 1 fields, saw 2\\nSkipping line 158654: expected 1 fields, saw 2\\nSkipping line 162394: expected 1 fields, saw 2\\nSkipping line 169512: expected 1 fields, saw 2\\nSkipping line 174118: expected 1 fields, saw 2\\nSkipping line 174119: expected 1 fields, saw 2\\nSkipping line 185593: expected 1 fields, saw 2\\nSkipping line 193597: expected 1 fields, saw 2\\nSkipping line 207652: expected 1 fields, saw 2\\nSkipping line 220954: expected 1 fields, saw 2\\nSkipping line 224751: expected 1 fields, saw 2\\nSkipping line 271760: expected 1 fields, saw 2\\nSkipping line 525440: expected 1 fields, saw 2\\n'\n",
      "b'Skipping line 1822507: expected 1 fields, saw 2\\nSkipping line 1848835: expected 1 fields, saw 2\\nSkipping line 1862090: expected 1 fields, saw 2\\nSkipping line 1863031: expected 1 fields, saw 2\\n'\n"
     ]
    },
    {
     "data": {
      "text/html": [
       "<div>\n",
       "<style scoped>\n",
       "    .dataframe tbody tr th:only-of-type {\n",
       "        vertical-align: middle;\n",
       "    }\n",
       "\n",
       "    .dataframe tbody tr th {\n",
       "        vertical-align: top;\n",
       "    }\n",
       "\n",
       "    .dataframe thead th {\n",
       "        text-align: right;\n",
       "    }\n",
       "</style>\n",
       "<table border=\"1\" class=\"dataframe\">\n",
       "  <thead>\n",
       "    <tr style=\"text-align: right;\">\n",
       "      <th></th>\n",
       "      <th>sentences</th>\n",
       "      <th>label</th>\n",
       "    </tr>\n",
       "  </thead>\n",
       "  <tbody>\n",
       "    <tr>\n",
       "      <th>0</th>\n",
       "      <td>Resumption of the session</td>\n",
       "      <td>en</td>\n",
       "    </tr>\n",
       "    <tr>\n",
       "      <th>1</th>\n",
       "      <td>I declare resumed the session of the European ...</td>\n",
       "      <td>en</td>\n",
       "    </tr>\n",
       "    <tr>\n",
       "      <th>2</th>\n",
       "      <td>Although, as you will have seen, the dreaded '...</td>\n",
       "      <td>en</td>\n",
       "    </tr>\n",
       "    <tr>\n",
       "      <th>3</th>\n",
       "      <td>You have requested a debate on this subject in...</td>\n",
       "      <td>en</td>\n",
       "    </tr>\n",
       "    <tr>\n",
       "      <th>4</th>\n",
       "      <td>In the meantime, I should like to observe a mi...</td>\n",
       "      <td>en</td>\n",
       "    </tr>\n",
       "  </tbody>\n",
       "</table>\n",
       "</div>"
      ],
      "text/plain": [
       "                                           sentences label\n",
       "0                          Resumption of the session    en\n",
       "1  I declare resumed the session of the European ...    en\n",
       "2  Although, as you will have seen, the dreaded '...    en\n",
       "3  You have requested a debate on this subject in...    en\n",
       "4  In the meantime, I should like to observe a mi...    en"
      ]
     },
     "execution_count": 9,
     "metadata": {
      "tags": []
     },
     "output_type": "execute_result"
    }
   ],
   "source": [
    "en_data = pd.read_csv(\"/content/europarl-v7.it-en.en\", delimiter=\"\\n\", header=None,error_bad_lines=False)\n",
    "en_data = en_data.rename(columns={0:\"sentences\"})\n",
    "en_data[\"label\"] = \"en\"\n",
    "\n",
    "en_data.head()"
   ]
  },
  {
   "cell_type": "code",
   "execution_count": 11,
   "metadata": {
    "colab": {
     "base_uri": "https://localhost:8080/",
     "height": 292
    },
    "colab_type": "code",
    "id": "Hoa8vD3jHC8V",
    "outputId": "09981cc9-2b89-400a-84c4-c7dbb431982d"
   },
   "outputs": [
    {
     "name": "stderr",
     "output_type": "stream",
     "text": [
      "b'Skipping line 20094: expected 1 fields, saw 2\\nSkipping line 27726: expected 1 fields, saw 2\\nSkipping line 28814: expected 1 fields, saw 2\\nSkipping line 30220: expected 1 fields, saw 2\\nSkipping line 30221: expected 1 fields, saw 2\\nSkipping line 32604: expected 1 fields, saw 2\\nSkipping line 41903: expected 1 fields, saw 2\\nSkipping line 53850: expected 1 fields, saw 2\\nSkipping line 54949: expected 1 fields, saw 2\\nSkipping line 59494: expected 1 fields, saw 4\\nSkipping line 59496: expected 1 fields, saw 3\\nSkipping line 79555: expected 1 fields, saw 2\\nSkipping line 95031: expected 1 fields, saw 2\\nSkipping line 95064: expected 1 fields, saw 2\\nSkipping line 98382: expected 1 fields, saw 2\\nSkipping line 101181: expected 1 fields, saw 2\\nSkipping line 114498: expected 1 fields, saw 2\\nSkipping line 115143: expected 1 fields, saw 2\\nSkipping line 125396: expected 1 fields, saw 8\\nSkipping line 128023: expected 1 fields, saw 2\\nSkipping line 128626: expected 1 fields, saw 2\\nSkipping line 130481: expected 1 fields, saw 2\\nSkipping line 136494: expected 1 fields, saw 2\\nSkipping line 142979: expected 1 fields, saw 3\\nSkipping line 143012: expected 1 fields, saw 2\\nSkipping line 143105: expected 1 fields, saw 2\\nSkipping line 143107: expected 1 fields, saw 2\\nSkipping line 145184: expected 1 fields, saw 2\\nSkipping line 145187: expected 1 fields, saw 2\\nSkipping line 145245: expected 1 fields, saw 2\\nSkipping line 147686: expected 1 fields, saw 2\\nSkipping line 148411: expected 1 fields, saw 2\\nSkipping line 148413: expected 1 fields, saw 2\\nSkipping line 149841: expected 1 fields, saw 4\\nSkipping line 153103: expected 1 fields, saw 3\\nSkipping line 156244: expected 1 fields, saw 3\\nSkipping line 159485: expected 1 fields, saw 2\\nSkipping line 168289: expected 1 fields, saw 2\\nSkipping line 175237: expected 1 fields, saw 2\\nSkipping line 180389: expected 1 fields, saw 3\\nSkipping line 181538: expected 1 fields, saw 2\\nSkipping line 185262: expected 1 fields, saw 2\\nSkipping line 197679: expected 1 fields, saw 2\\nSkipping line 201292: expected 1 fields, saw 2\\nSkipping line 210355: expected 1 fields, saw 2\\nSkipping line 210383: expected 1 fields, saw 2\\nSkipping line 221162: expected 1 fields, saw 2\\nSkipping line 221226: expected 1 fields, saw 2\\nSkipping line 227877: expected 1 fields, saw 2\\nSkipping line 227878: expected 1 fields, saw 2\\nSkipping line 227879: expected 1 fields, saw 2\\nSkipping line 227880: expected 1 fields, saw 2\\nSkipping line 227881: expected 1 fields, saw 2\\nSkipping line 227882: expected 1 fields, saw 2\\nSkipping line 227883: expected 1 fields, saw 2\\nSkipping line 230651: expected 1 fields, saw 2\\nSkipping line 235375: expected 1 fields, saw 2\\nSkipping line 236602: expected 1 fields, saw 2\\nSkipping line 237232: expected 1 fields, saw 3\\nSkipping line 237484: expected 1 fields, saw 2\\nSkipping line 239342: expected 1 fields, saw 2\\nSkipping line 246244: expected 1 fields, saw 2\\nSkipping line 259964: expected 1 fields, saw 2\\nSkipping line 276328: expected 1 fields, saw 3\\nSkipping line 280134: expected 1 fields, saw 2\\nSkipping line 290179: expected 1 fields, saw 2\\nSkipping line 324467: expected 1 fields, saw 2\\nSkipping line 325561: expected 1 fields, saw 2\\nSkipping line 347511: expected 1 fields, saw 2\\nSkipping line 347594: expected 1 fields, saw 2\\nSkipping line 353772: expected 1 fields, saw 2\\nSkipping line 357230: expected 1 fields, saw 2\\nSkipping line 390399: expected 1 fields, saw 2\\nSkipping line 395374: expected 1 fields, saw 2\\nSkipping line 403390: expected 1 fields, saw 2\\nSkipping line 404445: expected 1 fields, saw 2\\nSkipping line 411529: expected 1 fields, saw 2\\nSkipping line 421520: expected 1 fields, saw 2\\nSkipping line 467301: expected 1 fields, saw 2\\nSkipping line 515885: expected 1 fields, saw 2\\nSkipping line 521082: expected 1 fields, saw 2\\nSkipping line 521088: expected 1 fields, saw 2\\nSkipping line 521316: expected 1 fields, saw 2\\nSkipping line 521344: expected 1 fields, saw 2\\n'\n",
      "b'Skipping line 528899: expected 1 fields, saw 2\\nSkipping line 819638: expected 1 fields, saw 2\\nSkipping line 820324: expected 1 fields, saw 2\\nSkipping line 836276: expected 1 fields, saw 2\\nSkipping line 847107: expected 1 fields, saw 2\\nSkipping line 861688: expected 1 fields, saw 2\\nSkipping line 862667: expected 1 fields, saw 2\\nSkipping line 875166: expected 1 fields, saw 2\\nSkipping line 877187: expected 1 fields, saw 2\\nSkipping line 877601: expected 1 fields, saw 2\\nSkipping line 879463: expected 1 fields, saw 2\\nSkipping line 883784: expected 1 fields, saw 2\\nSkipping line 888796: expected 1 fields, saw 2\\nSkipping line 888802: expected 1 fields, saw 2\\nSkipping line 891161: expected 1 fields, saw 2\\nSkipping line 925161: expected 1 fields, saw 2\\nSkipping line 925163: expected 1 fields, saw 2\\nSkipping line 942997: expected 1 fields, saw 2\\nSkipping line 951225: expected 1 fields, saw 2\\nSkipping line 957391: expected 1 fields, saw 2\\nSkipping line 957392: expected 1 fields, saw 2\\nSkipping line 958883: expected 1 fields, saw 2\\nSkipping line 966970: expected 1 fields, saw 2\\nSkipping line 967849: expected 1 fields, saw 2\\nSkipping line 969755: expected 1 fields, saw 2\\nSkipping line 985172: expected 1 fields, saw 2\\nSkipping line 995001: expected 1 fields, saw 2\\nSkipping line 997082: expected 1 fields, saw 2\\nSkipping line 1005816: expected 1 fields, saw 2\\nSkipping line 1006099: expected 1 fields, saw 2\\nSkipping line 1009552: expected 1 fields, saw 2\\nSkipping line 1010788: expected 1 fields, saw 2\\nSkipping line 1016221: expected 1 fields, saw 2\\nSkipping line 1022067: expected 1 fields, saw 2\\nSkipping line 1026766: expected 1 fields, saw 2\\nSkipping line 1026804: expected 1 fields, saw 2\\nSkipping line 1030458: expected 1 fields, saw 2\\nSkipping line 1036845: expected 1 fields, saw 2\\nSkipping line 1039110: expected 1 fields, saw 2\\nSkipping line 1043060: expected 1 fields, saw 2\\nSkipping line 1043065: expected 1 fields, saw 2\\nSkipping line 1043096: expected 1 fields, saw 2\\n'\n",
      "b'Skipping line 1061526: expected 1 fields, saw 2\\nSkipping line 1063601: expected 1 fields, saw 2\\nSkipping line 1071262: expected 1 fields, saw 2\\nSkipping line 1076860: expected 1 fields, saw 2\\nSkipping line 1085000: expected 1 fields, saw 2\\nSkipping line 1086653: expected 1 fields, saw 2\\nSkipping line 1110039: expected 1 fields, saw 2\\nSkipping line 1118723: expected 1 fields, saw 2\\nSkipping line 1118731: expected 1 fields, saw 2\\nSkipping line 1121287: expected 1 fields, saw 2\\nSkipping line 1122702: expected 1 fields, saw 2\\nSkipping line 1134068: expected 1 fields, saw 2\\nSkipping line 1135448: expected 1 fields, saw 2\\nSkipping line 1136107: expected 1 fields, saw 2\\nSkipping line 1136120: expected 1 fields, saw 2\\nSkipping line 1139899: expected 1 fields, saw 2\\nSkipping line 1150809: expected 1 fields, saw 2\\nSkipping line 1156230: expected 1 fields, saw 2\\nSkipping line 1169874: expected 1 fields, saw 2\\nSkipping line 1173179: expected 1 fields, saw 2\\nSkipping line 1176798: expected 1 fields, saw 2\\nSkipping line 1186138: expected 1 fields, saw 2\\nSkipping line 1197908: expected 1 fields, saw 2\\nSkipping line 1197909: expected 1 fields, saw 2\\nSkipping line 1199123: expected 1 fields, saw 2\\nSkipping line 1202021: expected 1 fields, saw 2\\nSkipping line 1202480: expected 1 fields, saw 2\\nSkipping line 1203133: expected 1 fields, saw 2\\nSkipping line 1248614: expected 1 fields, saw 2\\nSkipping line 1249304: expected 1 fields, saw 2\\nSkipping line 1256636: expected 1 fields, saw 2\\nSkipping line 1257248: expected 1 fields, saw 2\\nSkipping line 1260608: expected 1 fields, saw 2\\nSkipping line 1261327: expected 1 fields, saw 2\\nSkipping line 1274545: expected 1 fields, saw 2\\nSkipping line 1287630: expected 1 fields, saw 2\\nSkipping line 1292423: expected 1 fields, saw 3\\nSkipping line 1296245: expected 1 fields, saw 2\\nSkipping line 1305153: expected 1 fields, saw 2\\nSkipping line 1363654: expected 1 fields, saw 2\\nSkipping line 1372622: expected 1 fields, saw 4\\nSkipping line 1425128: expected 1 fields, saw 3\\nSkipping line 1437643: expected 1 fields, saw 2\\nSkipping line 1437663: expected 1 fields, saw 2\\nSkipping line 1457728: expected 1 fields, saw 2\\nSkipping line 1476372: expected 1 fields, saw 2\\nSkipping line 1476377: expected 1 fields, saw 2\\nSkipping line 1480015: expected 1 fields, saw 2\\nSkipping line 1480017: expected 1 fields, saw 2\\nSkipping line 1480018: expected 1 fields, saw 2\\nSkipping line 1480019: expected 1 fields, saw 2\\nSkipping line 1480020: expected 1 fields, saw 2\\nSkipping line 1480021: expected 1 fields, saw 2\\nSkipping line 1480022: expected 1 fields, saw 2\\nSkipping line 1503528: expected 1 fields, saw 2\\nSkipping line 1522304: expected 1 fields, saw 2\\nSkipping line 1540082: expected 1 fields, saw 2\\n'\n",
      "b'Skipping line 1990551: expected 1 fields, saw 2\\n'\n"
     ]
    },
    {
     "data": {
      "text/html": [
       "<div>\n",
       "<style scoped>\n",
       "    .dataframe tbody tr th:only-of-type {\n",
       "        vertical-align: middle;\n",
       "    }\n",
       "\n",
       "    .dataframe tbody tr th {\n",
       "        vertical-align: top;\n",
       "    }\n",
       "\n",
       "    .dataframe thead th {\n",
       "        text-align: right;\n",
       "    }\n",
       "</style>\n",
       "<table border=\"1\" class=\"dataframe\">\n",
       "  <thead>\n",
       "    <tr style=\"text-align: right;\">\n",
       "      <th></th>\n",
       "      <th>sentences</th>\n",
       "      <th>label</th>\n",
       "    </tr>\n",
       "  </thead>\n",
       "  <tbody>\n",
       "    <tr>\n",
       "      <th>0</th>\n",
       "      <td>Reprise de la session</td>\n",
       "      <td>fr</td>\n",
       "    </tr>\n",
       "    <tr>\n",
       "      <th>1</th>\n",
       "      <td>Je déclare reprise la session du Parlement eur...</td>\n",
       "      <td>fr</td>\n",
       "    </tr>\n",
       "    <tr>\n",
       "      <th>2</th>\n",
       "      <td>Comme vous avez pu le constater, le grand \"bog...</td>\n",
       "      <td>fr</td>\n",
       "    </tr>\n",
       "    <tr>\n",
       "      <th>3</th>\n",
       "      <td>Vous avez souhaité un débat à ce sujet dans le...</td>\n",
       "      <td>fr</td>\n",
       "    </tr>\n",
       "    <tr>\n",
       "      <th>4</th>\n",
       "      <td>En attendant, je souhaiterais, comme un certai...</td>\n",
       "      <td>fr</td>\n",
       "    </tr>\n",
       "  </tbody>\n",
       "</table>\n",
       "</div>"
      ],
      "text/plain": [
       "                                           sentences label\n",
       "0                              Reprise de la session    fr\n",
       "1  Je déclare reprise la session du Parlement eur...    fr\n",
       "2  Comme vous avez pu le constater, le grand \"bog...    fr\n",
       "3  Vous avez souhaité un débat à ce sujet dans le...    fr\n",
       "4  En attendant, je souhaiterais, comme un certai...    fr"
      ]
     },
     "execution_count": 11,
     "metadata": {
      "tags": []
     },
     "output_type": "execute_result"
    }
   ],
   "source": [
    "fr_data = pd.read_csv(\"/content/europarl-v7.fr-en.fr\", delimiter=\"\\n\", header=None,error_bad_lines=False)\n",
    "fr_data = fr_data.rename(columns={0:\"sentences\"})\n",
    "fr_data[\"label\"] = \"fr\"\n",
    "fr_data.head()"
   ]
  },
  {
   "cell_type": "code",
   "execution_count": 7,
   "metadata": {
    "colab": {
     "base_uri": "https://localhost:8080/",
     "height": 292
    },
    "colab_type": "code",
    "id": "6IxYTJcYHK18",
    "outputId": "ffc59944-b9ea-4b02-9a0d-ef5ec7dc4f73"
   },
   "outputs": [
    {
     "name": "stderr",
     "output_type": "stream",
     "text": [
      "b'Skipping line 2829: expected 1 fields, saw 2\\nSkipping line 6114: expected 1 fields, saw 2\\nSkipping line 6943: expected 1 fields, saw 2\\nSkipping line 26878: expected 1 fields, saw 2\\nSkipping line 28190: expected 1 fields, saw 2\\nSkipping line 28191: expected 1 fields, saw 2\\nSkipping line 38494: expected 1 fields, saw 2\\nSkipping line 41210: expected 1 fields, saw 2\\nSkipping line 49400: expected 1 fields, saw 2\\nSkipping line 50445: expected 1 fields, saw 2\\nSkipping line 54558: expected 1 fields, saw 4\\nSkipping line 54560: expected 1 fields, saw 2\\nSkipping line 87334: expected 1 fields, saw 2\\nSkipping line 90360: expected 1 fields, saw 2\\nSkipping line 90362: expected 1 fields, saw 2\\nSkipping line 92485: expected 1 fields, saw 2\\nSkipping line 92996: expected 1 fields, saw 2\\nSkipping line 105766: expected 1 fields, saw 2\\nSkipping line 106426: expected 1 fields, saw 2\\nSkipping line 116081: expected 1 fields, saw 2\\nSkipping line 117318: expected 1 fields, saw 2\\nSkipping line 117911: expected 1 fields, saw 2\\nSkipping line 125471: expected 1 fields, saw 2\\nSkipping line 131474: expected 1 fields, saw 2\\nSkipping line 131476: expected 1 fields, saw 2\\nSkipping line 133603: expected 1 fields, saw 2\\nSkipping line 133699: expected 1 fields, saw 2\\nSkipping line 136650: expected 1 fields, saw 2\\nSkipping line 136653: expected 1 fields, saw 2\\nSkipping line 139755: expected 1 fields, saw 2\\nSkipping line 139757: expected 1 fields, saw 2\\nSkipping line 141120: expected 1 fields, saw 3\\nSkipping line 142498: expected 1 fields, saw 2\\nSkipping line 144378: expected 1 fields, saw 3\\nSkipping line 147288: expected 1 fields, saw 2\\nSkipping line 150380: expected 1 fields, saw 2\\nSkipping line 169455: expected 1 fields, saw 2\\nSkipping line 185544: expected 1 fields, saw 2\\nSkipping line 186115: expected 1 fields, saw 2\\nSkipping line 188816: expected 1 fields, saw 2\\nSkipping line 197387: expected 1 fields, saw 2\\nSkipping line 207599: expected 1 fields, saw 2\\nSkipping line 214102: expected 1 fields, saw 15\\nSkipping line 216785: expected 1 fields, saw 2\\nSkipping line 217215: expected 1 fields, saw 2\\nSkipping line 222628: expected 1 fields, saw 3\\nSkipping line 222885: expected 1 fields, saw 2\\nSkipping line 224673: expected 1 fields, saw 2\\nSkipping line 252239: expected 1 fields, saw 2\\n'\n",
      "b'Skipping line 1000285: expected 1 fields, saw 2\\n'\n",
      "b'Skipping line 1069284: expected 1 fields, saw 2\\nSkipping line 1187650: expected 1 fields, saw 2\\nSkipping line 1298519: expected 1 fields, saw 2\\n'\n",
      "b'Skipping line 1869012: expected 1 fields, saw 2\\nSkipping line 1882267: expected 1 fields, saw 2\\n'\n"
     ]
    },
    {
     "data": {
      "text/html": [
       "<div>\n",
       "<style scoped>\n",
       "    .dataframe tbody tr th:only-of-type {\n",
       "        vertical-align: middle;\n",
       "    }\n",
       "\n",
       "    .dataframe tbody tr th {\n",
       "        vertical-align: top;\n",
       "    }\n",
       "\n",
       "    .dataframe thead th {\n",
       "        text-align: right;\n",
       "    }\n",
       "</style>\n",
       "<table border=\"1\" class=\"dataframe\">\n",
       "  <thead>\n",
       "    <tr style=\"text-align: right;\">\n",
       "      <th></th>\n",
       "      <th>sentences</th>\n",
       "      <th>label</th>\n",
       "    </tr>\n",
       "  </thead>\n",
       "  <tbody>\n",
       "    <tr>\n",
       "      <th>0</th>\n",
       "      <td>Ripresa della sessione</td>\n",
       "      <td>it</td>\n",
       "    </tr>\n",
       "    <tr>\n",
       "      <th>1</th>\n",
       "      <td>Dichiaro ripresa la sessione del Parlamento eu...</td>\n",
       "      <td>it</td>\n",
       "    </tr>\n",
       "    <tr>\n",
       "      <th>2</th>\n",
       "      <td>Come avrete avuto modo di constatare il grande...</td>\n",
       "      <td>it</td>\n",
       "    </tr>\n",
       "    <tr>\n",
       "      <th>3</th>\n",
       "      <td>Avete chiesto che si tenesse una discussione s...</td>\n",
       "      <td>it</td>\n",
       "    </tr>\n",
       "    <tr>\n",
       "      <th>4</th>\n",
       "      <td>Nel frattempo è mio desiderio, come del resto ...</td>\n",
       "      <td>it</td>\n",
       "    </tr>\n",
       "  </tbody>\n",
       "</table>\n",
       "</div>"
      ],
      "text/plain": [
       "                                           sentences label\n",
       "0                             Ripresa della sessione    it\n",
       "1  Dichiaro ripresa la sessione del Parlamento eu...    it\n",
       "2  Come avrete avuto modo di constatare il grande...    it\n",
       "3  Avete chiesto che si tenesse una discussione s...    it\n",
       "4  Nel frattempo è mio desiderio, come del resto ...    it"
      ]
     },
     "execution_count": 7,
     "metadata": {
      "tags": []
     },
     "output_type": "execute_result"
    }
   ],
   "source": [
    "it_data = pd.read_csv(\"/content/europarl-v7.it-en.it\", delimiter=\"\\n\", header=None,error_bad_lines=False)\n",
    "it_data = it_data.rename(columns={0:\"sentences\"})\n",
    "it_data[\"label\"] = \"it\"\n",
    "it_data.head()"
   ]
  },
  {
   "cell_type": "code",
   "execution_count": 17,
   "metadata": {
    "colab": {
     "base_uri": "https://localhost:8080/",
     "height": 68
    },
    "colab_type": "code",
    "id": "CwjEKKePHR-2",
    "outputId": "0420d721-ba6f-4f78-802d-04ce30d0bd7e"
   },
   "outputs": [
    {
     "data": {
      "text/plain": [
       "sentences    0\n",
       "label        0\n",
       "dtype: int64"
      ]
     },
     "execution_count": 17,
     "metadata": {
      "tags": []
     },
     "output_type": "execute_result"
    }
   ],
   "source": [
    "data = pd.concat([en_data, fr_data, it_data])\n",
    "data.isnull().sum()\n",
    "# data\n"
   ]
  },
  {
   "cell_type": "code",
   "execution_count": 13,
   "metadata": {
    "colab": {
     "base_uri": "https://localhost:8080/",
     "height": 85
    },
    "colab_type": "code",
    "id": "YGG3vhiRHVDd",
    "outputId": "9264b9e2-a300-4c13-9507-6c8ae62398cf"
   },
   "outputs": [
    {
     "data": {
      "text/plain": [
       "fr    2003391\n",
       "it    1878448\n",
       "en    1859995\n",
       "Name: label, dtype: int64"
      ]
     },
     "execution_count": 13,
     "metadata": {
      "tags": []
     },
     "output_type": "execute_result"
    }
   ],
   "source": [
    "data['label'].value_counts()"
   ]
  },
  {
   "cell_type": "markdown",
   "metadata": {
    "colab_type": "text",
    "id": "DrCJUkW4HsI4"
   },
   "source": [
    "sklearn\n"
   ]
  },
  {
   "cell_type": "code",
   "execution_count": 0,
   "metadata": {
    "colab": {},
    "colab_type": "code",
    "id": "QmrvPT89H159"
   },
   "outputs": [],
   "source": [
    "X = data['sentences']\n",
    "y = data['label']\n",
    "\n",
    "X_train, X_test, y_train, y_test = train_test_split(X, y, test_size=0.33, random_state=42)"
   ]
  },
  {
   "cell_type": "code",
   "execution_count": 15,
   "metadata": {
    "colab": {
     "base_uri": "https://localhost:8080/",
     "height": 34
    },
    "colab_type": "code",
    "id": "RAPzz9O6IMgc",
    "outputId": "d3615fc7-fcec-4c5c-a81d-450e697ca9f8"
   },
   "outputs": [
    {
     "data": {
      "text/plain": [
       "(3847028, 247013)"
      ]
     },
     "execution_count": 15,
     "metadata": {
      "tags": []
     },
     "output_type": "execute_result"
    }
   ],
   "source": [
    "count_vect = CountVectorizer()\n",
    "\n",
    "X_train_counts = count_vect.fit_transform(X_train)\n",
    "X_train_counts.shape"
   ]
  },
  {
   "cell_type": "code",
   "execution_count": 18,
   "metadata": {
    "colab": {
     "base_uri": "https://localhost:8080/",
     "height": 34
    },
    "colab_type": "code",
    "id": "nCSDq9gEIVft",
    "outputId": "82c30de5-e569-426f-c882-6f0ae11abcb5"
   },
   "outputs": [
    {
     "data": {
      "text/plain": [
       "(3847028, 247013)"
      ]
     },
     "execution_count": 18,
     "metadata": {
      "tags": []
     },
     "output_type": "execute_result"
    }
   ],
   "source": [
    "tfidf_transformer = TfidfTransformer()\n",
    "\n",
    "X_train_tfidf = tfidf_transformer.fit_transform(X_train_counts)\n",
    "X_train_tfidf.shape"
   ]
  },
  {
   "cell_type": "code",
   "execution_count": 19,
   "metadata": {
    "colab": {
     "base_uri": "https://localhost:8080/",
     "height": 85
    },
    "colab_type": "code",
    "id": "OBnpUsrEIfw3",
    "outputId": "c504985e-bff5-46e9-be55-583f0b53ece1"
   },
   "outputs": [
    {
     "data": {
      "text/plain": [
       "LinearSVC(C=1.0, class_weight=None, dual=True, fit_intercept=True,\n",
       "     intercept_scaling=1, loss='squared_hinge', max_iter=1000,\n",
       "     multi_class='ovr', penalty='l2', random_state=None, tol=0.0001,\n",
       "     verbose=0)"
      ]
     },
     "execution_count": 19,
     "metadata": {
      "tags": []
     },
     "output_type": "execute_result"
    }
   ],
   "source": [
    "# fit our model\n",
    "from sklearn.svm import LinearSVC\n",
    "clf = LinearSVC()#c\n",
    "clf.fit(X_train_tfidf,y_train)"
   ]
  },
  {
   "cell_type": "code",
   "execution_count": 20,
   "metadata": {
    "colab": {
     "base_uri": "https://localhost:8080/",
     "height": 136
    },
    "colab_type": "code",
    "id": "Ds3bGi8yIjRl",
    "outputId": "e17ec522-ee5a-4586-931b-2416ca07f8ad"
   },
   "outputs": [
    {
     "data": {
      "text/plain": [
       "Pipeline(memory=None,\n",
       "     steps=[('tfidf', TfidfVectorizer(analyzer='word', binary=False, decode_error='strict',\n",
       "        dtype=<class 'numpy.float64'>, encoding='utf-8', input='content',\n",
       "        lowercase=True, max_df=1.0, max_features=None, min_df=1,\n",
       "        ngram_range=(1, 1), norm='l2', preprocessor=None, smooth_idf=True,...ax_iter=1000,\n",
       "     multi_class='ovr', penalty='l2', random_state=None, tol=0.0001,\n",
       "     verbose=0))])"
      ]
     },
     "execution_count": 20,
     "metadata": {
      "tags": []
     },
     "output_type": "execute_result"
    }
   ],
   "source": [
    "from sklearn.pipeline import Pipeline\n",
    "from sklearn.feature_extraction.text import TfidfVectorizer\n",
    "from sklearn.svm import LinearSVC\n",
    "\n",
    "text_clf = Pipeline([('tfidf', TfidfVectorizer()),\n",
    "                     ('clf', LinearSVC()),\n",
    "])\n",
    "\n",
    "# Feed the training data through the pipeline\n",
    "text_clf.fit(X_train, y_train)  "
   ]
  },
  {
   "cell_type": "code",
   "execution_count": 0,
   "metadata": {
    "colab": {},
    "colab_type": "code",
    "id": "V7l3sEeGImMM"
   },
   "outputs": [],
   "source": [
    "# Form a prediction set\n",
    "predictions = text_clf.predict(X_test)\n",
    "predictions"
   ]
  },
  {
   "cell_type": "code",
   "execution_count": 22,
   "metadata": {
    "colab": {
     "base_uri": "https://localhost:8080/",
     "height": 68
    },
    "colab_type": "code",
    "id": "cAfSUBy9IopS",
    "outputId": "0af8d7c9-41bc-460f-bfff-74ce6ff7ddf1"
   },
   "outputs": [
    {
     "name": "stdout",
     "output_type": "stream",
     "text": [
      "[[613302    234    366]\n",
      " [  1580 659363    360]\n",
      " [  1484    197 617920]]\n"
     ]
    }
   ],
   "source": [
    "# Report the confusion matrix\n",
    "from sklearn import metrics\n",
    "print(metrics.confusion_matrix(y_test,predictions))"
   ]
  },
  {
   "cell_type": "code",
   "execution_count": 23,
   "metadata": {
    "colab": {
     "base_uri": "https://localhost:8080/",
     "height": 187
    },
    "colab_type": "code",
    "id": "6bKZ6jq6IqjZ",
    "outputId": "27fd47c1-4d73-49e1-9053-6aafbc835133"
   },
   "outputs": [
    {
     "name": "stdout",
     "output_type": "stream",
     "text": [
      "              precision    recall  f1-score   support\n",
      "\n",
      "          en       1.00      1.00      1.00    613902\n",
      "          fr       1.00      1.00      1.00    661303\n",
      "          it       1.00      1.00      1.00    619601\n",
      "\n",
      "   micro avg       1.00      1.00      1.00   1894806\n",
      "   macro avg       1.00      1.00      1.00   1894806\n",
      "weighted avg       1.00      1.00      1.00   1894806\n",
      "\n"
     ]
    }
   ],
   "source": [
    "# Print a classification report\n",
    "print(metrics.classification_report(y_test,predictions))"
   ]
  },
  {
   "cell_type": "code",
   "execution_count": 24,
   "metadata": {
    "colab": {
     "base_uri": "https://localhost:8080/",
     "height": 34
    },
    "colab_type": "code",
    "id": "uEmCBqlPItDZ",
    "outputId": "614896d0-33c1-416e-d095-d5aa73d90fac"
   },
   "outputs": [
    {
     "name": "stdout",
     "output_type": "stream",
     "text": [
      "0.9977723313099072\n"
     ]
    }
   ],
   "source": [
    "# Print the overall accuracy\n",
    "print(metrics.accuracy_score(y_test,predictions))"
   ]
  }
 ],
 "metadata": {
  "accelerator": "GPU",
  "colab": {
   "collapsed_sections": [],
   "name": "sklearn.ipynb",
   "provenance": [],
   "version": "0.3.2"
  },
  "kernelspec": {
   "display_name": "Python 3",
   "language": "python",
   "name": "python3"
  },
  "language_info": {
   "codemirror_mode": {
    "name": "ipython",
    "version": 3
   },
   "file_extension": ".py",
   "mimetype": "text/x-python",
   "name": "python",
   "nbconvert_exporter": "python",
   "pygments_lexer": "ipython3",
   "version": "3.6.8"
  }
 },
 "nbformat": 4,
 "nbformat_minor": 1
}
