{
 "cells": [
  {
   "cell_type": "code",
   "execution_count": 72,
   "metadata": {},
   "outputs": [],
   "source": [
    "import pandas as pd"
   ]
  },
  {
   "cell_type": "code",
   "execution_count": 73,
   "metadata": {},
   "outputs": [],
   "source": [
    "en_data = pd.read_csv(\"./en.en\", delimiter=\"\\n\", header=None)\n",
    "en_data = en_data.rename(columns={0:\"sentences\"})\n",
    "en_data[\"label\"] = \"en\""
   ]
  },
  {
   "cell_type": "code",
   "execution_count": 74,
   "metadata": {},
   "outputs": [],
   "source": [
    "fr_data = pd.read_csv(\"./fr.fr\", delimiter=\"\\n\", header=None)\n",
    "fr_data = en_data.rename(columns={0:\"sentences\"})\n",
    "fr_data[\"label\"] = \"fr\""
   ]
  },
  {
   "cell_type": "code",
   "execution_count": 75,
   "metadata": {},
   "outputs": [],
   "source": [
    "it_data = pd.read_csv(\"./it.it\", delimiter=\"\\n\", header=None)\n",
    "it_data = it_data.rename(columns={0:\"sentences\"})\n",
    "it_data[\"label\"] = \"it\""
   ]
  },
  {
   "cell_type": "code",
   "execution_count": 76,
   "metadata": {},
   "outputs": [],
   "source": [
    "data = pd.concat([en_data, fr_data, it_data])"
   ]
  },
  {
   "cell_type": "code",
   "execution_count": 77,
   "metadata": {},
   "outputs": [
    {
     "data": {
      "text/plain": [
       "(239, 2)"
      ]
     },
     "execution_count": 77,
     "metadata": {},
     "output_type": "execute_result"
    }
   ],
   "source": [
    "data.shape"
   ]
  },
  {
   "cell_type": "code",
   "execution_count": 78,
   "metadata": {},
   "outputs": [],
   "source": [
    "from sklearn.model_selection import train_test_split"
   ]
  },
  {
   "cell_type": "code",
   "execution_count": 79,
   "metadata": {},
   "outputs": [],
   "source": [
    "X = data['sentences']\n",
    "y = data['label']"
   ]
  },
  {
   "cell_type": "code",
   "execution_count": 80,
   "metadata": {},
   "outputs": [],
   "source": [
    "X_train, X_test, y_train, y_test = train_test_split(X, y, test_size=0.33, random_state=50)"
   ]
  },
  {
   "cell_type": "code",
   "execution_count": 81,
   "metadata": {},
   "outputs": [
    {
     "name": "stdout",
     "output_type": "stream",
     "text": [
      "(160, 1257)\n",
      "(79, 1257)\n"
     ]
    }
   ],
   "source": [
    "from sklearn.feature_extraction.text import TfidfVectorizer\n",
    "\n",
    "count_vectorizer = TfidfVectorizer()\n",
    "bag_of_words = count_vectorizer.fit_transform(X_train)\n",
    "print(bag_of_words.shape)\n",
    "X_test = count_vectorizer.transform(X_test)\n",
    "print(X_test.shape)"
   ]
  },
  {
   "cell_type": "code",
   "execution_count": 82,
   "metadata": {},
   "outputs": [
    {
     "name": "stdout",
     "output_type": "stream",
     "text": [
      "(160, 1257)\n",
      "(79, 1257)\n"
     ]
    }
   ],
   "source": [
    "from sklearn.feature_extraction.text import TfidfTransformer\n",
    "\n",
    "transformer = TfidfTransformer(use_idf=True, smooth_idf=True, sublinear_tf=False)\n",
    "transformer_bag_of_words = transformer.fit_transform(bag_of_words)\n",
    "X_test_transformer = transformer.transform(X_test)\n",
    "print (transformer_bag_of_words.shape)\n",
    "print (X_test_transformer.shape)"
   ]
  },
  {
   "cell_type": "code",
   "execution_count": 83,
   "metadata": {},
   "outputs": [],
   "source": [
    "from sklearn.preprocessing import LabelEncoder\n",
    "from keras.utils import np_utils\n",
    "\n",
    "train_y = y_train\n",
    "label_encoder = LabelEncoder()\n",
    "label_encoder.fit(train_y)\n",
    "encoded_y = np_utils.to_categorical((label_encoder.transform(train_y)))"
   ]
  },
  {
   "cell_type": "code",
   "execution_count": 84,
   "metadata": {},
   "outputs": [],
   "source": [
    "from keras.models import Sequential\n",
    "from keras.layers import LSTM\n",
    "from keras.layers import Dense"
   ]
  },
  {
   "cell_type": "code",
   "execution_count": 85,
   "metadata": {},
   "outputs": [],
   "source": [
    "model = Sequential()\n",
    "model.add(Dense(8, input_shape= (transformer_bag_of_words.shape[1],), activation='relu'))\n",
    "model.add(Dense(8, activation='relu'))\n",
    "model.add(Dense(3, input_shape= (3,), activation='softmax'))\n",
    "model.compile(loss='binary_crossentropy', optimizer='adam', metrics=['accuracy'])\n",
    "\n",
    "# model.add(LSTM(units=6, input_shape = X_train_tfidf.shape, return_sequences = True))\n",
    "# model.add(LSTM(units=6, return_sequences=True))\n",
    "# model.add(LSTM(units=6, return_sequences=True))\n",
    "# model.add(LSTM(units=3, return_sequences=True, name='output'))\n",
    "# model.compile(loss='categorical_crossentropy', optimizer='sgd', metrics = ['accuracy'])"
   ]
  },
  {
   "cell_type": "code",
   "execution_count": 86,
   "metadata": {},
   "outputs": [
    {
     "name": "stdout",
     "output_type": "stream",
     "text": [
      "_________________________________________________________________\n",
      "Layer (type)                 Output Shape              Param #   \n",
      "=================================================================\n",
      "dense_29 (Dense)             (None, 8)                 10064     \n",
      "_________________________________________________________________\n",
      "dense_30 (Dense)             (None, 8)                 72        \n",
      "_________________________________________________________________\n",
      "dense_31 (Dense)             (None, 3)                 27        \n",
      "=================================================================\n",
      "Total params: 10,163\n",
      "Trainable params: 10,163\n",
      "Non-trainable params: 0\n",
      "_________________________________________________________________\n"
     ]
    }
   ],
   "source": [
    "model.summary()"
   ]
  },
  {
   "cell_type": "code",
   "execution_count": 87,
   "metadata": {},
   "outputs": [
    {
     "name": "stdout",
     "output_type": "stream",
     "text": [
      "Epoch 1/30\n",
      "160/160 [==============================] - 1s 4ms/step - loss: 0.6348 - acc: 0.6667\n",
      "Epoch 2/30\n",
      "160/160 [==============================] - 0s 94us/step - loss: 0.6317 - acc: 0.6667\n",
      "Epoch 3/30\n",
      "160/160 [==============================] - 0s 94us/step - loss: 0.6281 - acc: 0.6667\n",
      "Epoch 4/30\n",
      "160/160 [==============================] - 0s 100us/step - loss: 0.6237 - acc: 0.6667\n",
      "Epoch 5/30\n",
      "160/160 [==============================] - 0s 106us/step - loss: 0.6185 - acc: 0.6667\n",
      "Epoch 6/30\n",
      "160/160 [==============================] - 0s 112us/step - loss: 0.6126 - acc: 0.6667\n",
      "Epoch 7/30\n",
      "160/160 [==============================] - 0s 106us/step - loss: 0.6057 - acc: 0.6667\n",
      "Epoch 8/30\n",
      "160/160 [==============================] - 0s 106us/step - loss: 0.5984 - acc: 0.6667\n",
      "Epoch 9/30\n",
      "160/160 [==============================] - 0s 106us/step - loss: 0.5903 - acc: 0.6667\n",
      "Epoch 10/30\n",
      "160/160 [==============================] - 0s 112us/step - loss: 0.5815 - acc: 0.6667\n",
      "Epoch 11/30\n",
      "160/160 [==============================] - 0s 100us/step - loss: 0.5719 - acc: 0.6667\n",
      "Epoch 12/30\n",
      "160/160 [==============================] - 0s 112us/step - loss: 0.5621 - acc: 0.6667\n",
      "Epoch 13/30\n",
      "160/160 [==============================] - 0s 119us/step - loss: 0.5518 - acc: 0.6667\n",
      "Epoch 14/30\n",
      "160/160 [==============================] - 0s 100us/step - loss: 0.5410 - acc: 0.6667\n",
      "Epoch 15/30\n",
      "160/160 [==============================] - 0s 125us/step - loss: 0.5299 - acc: 0.6667\n",
      "Epoch 16/30\n",
      "160/160 [==============================] - 0s 100us/step - loss: 0.5186 - acc: 0.6729\n",
      "Epoch 17/30\n",
      "160/160 [==============================] - 0s 118us/step - loss: 0.5072 - acc: 0.6937\n",
      "Epoch 18/30\n",
      "160/160 [==============================] - 0s 100us/step - loss: 0.4958 - acc: 0.7229\n",
      "Epoch 19/30\n",
      "160/160 [==============================] - 0s 112us/step - loss: 0.4840 - acc: 0.7500\n",
      "Epoch 20/30\n",
      "160/160 [==============================] - 0s 106us/step - loss: 0.4723 - acc: 0.7833\n",
      "Epoch 21/30\n",
      "160/160 [==============================] - 0s 106us/step - loss: 0.4604 - acc: 0.7979\n",
      "Epoch 22/30\n",
      "160/160 [==============================] - 0s 100us/step - loss: 0.4486 - acc: 0.8021\n",
      "Epoch 23/30\n",
      "160/160 [==============================] - 0s 106us/step - loss: 0.4364 - acc: 0.8104\n",
      "Epoch 24/30\n",
      "160/160 [==============================] - 0s 106us/step - loss: 0.4256 - acc: 0.8125\n",
      "Epoch 25/30\n",
      "160/160 [==============================] - 0s 87us/step - loss: 0.4143 - acc: 0.8125\n",
      "Epoch 26/30\n",
      "160/160 [==============================] - 0s 100us/step - loss: 0.4032 - acc: 0.8167\n",
      "Epoch 27/30\n",
      "160/160 [==============================] - 0s 87us/step - loss: 0.3930 - acc: 0.8167\n",
      "Epoch 28/30\n",
      "160/160 [==============================] - 0s 81us/step - loss: 0.3828 - acc: 0.8187\n",
      "Epoch 29/30\n",
      "160/160 [==============================] - 0s 87us/step - loss: 0.3732 - acc: 0.8229\n",
      "Epoch 30/30\n",
      "160/160 [==============================] - 0s 81us/step - loss: 0.3644 - acc: 0.8271\n"
     ]
    },
    {
     "data": {
      "text/plain": [
       "<keras.callbacks.History at 0x18f95873d68>"
      ]
     },
     "execution_count": 87,
     "metadata": {},
     "output_type": "execute_result"
    }
   ],
   "source": [
    "model.fit(X_train_tfidf,encoded_y,epochs=30, verbose=1)"
   ]
  },
  {
   "cell_type": "code",
   "execution_count": 88,
   "metadata": {},
   "outputs": [
    {
     "data": {
      "text/plain": [
       "array([0, 1, 0, 1, 2, 0, 2, 0, 1, 1, 0, 2, 0, 2, 0, 2, 2, 2, 2, 2, 2, 0,\n",
       "       1, 1, 0, 1, 0, 1, 2, 0, 2, 0, 1, 1, 1, 1, 2, 2, 0, 0, 0, 2, 1, 2,\n",
       "       2, 0, 2, 0, 2, 0, 2, 2, 0, 0, 0, 0, 1, 0, 0, 2, 2, 2, 2, 0, 2, 2,\n",
       "       2, 1, 0, 1, 0, 0, 0, 1, 0, 2, 0, 0, 0], dtype=int64)"
      ]
     },
     "execution_count": 88,
     "metadata": {},
     "output_type": "execute_result"
    }
   ],
   "source": [
    "model.predict_classes(X_test_transformer)"
   ]
  },
  {
   "cell_type": "code",
   "execution_count": 89,
   "metadata": {},
   "outputs": [
    {
     "data": {
      "text/plain": [
       "['loss', 'acc']"
      ]
     },
     "execution_count": 89,
     "metadata": {},
     "output_type": "execute_result"
    }
   ],
   "source": [
    "model.metrics_names"
   ]
  },
  {
   "cell_type": "code",
   "execution_count": 90,
   "metadata": {},
   "outputs": [],
   "source": [
    "from sklearn.preprocessing import LabelEncoder\n",
    "from keras.utils import np_utils\n",
    "\n",
    "train_y = y_test\n",
    "label_encoder = LabelEncoder()\n",
    "label_encoder.fit(train_y)\n",
    "encoded_y_test = np_utils.to_categorical((label_encoder.transform(train_y)))"
   ]
  },
  {
   "cell_type": "code",
   "execution_count": 91,
   "metadata": {},
   "outputs": [
    {
     "name": "stdout",
     "output_type": "stream",
     "text": [
      "79/79 [==============================] - 0s 3ms/step\n"
     ]
    },
    {
     "data": {
      "text/plain": [
       "[0.45811409059959124, 0.7172996092446243]"
      ]
     },
     "execution_count": 91,
     "metadata": {},
     "output_type": "execute_result"
    }
   ],
   "source": [
    "model.evaluate(x=X_test_transformer,y=encoded_y_test)"
   ]
  },
  {
   "cell_type": "code",
   "execution_count": 92,
   "metadata": {},
   "outputs": [],
   "source": [
    "from sklearn.metrics import confusion_matrix,classification_report"
   ]
  },
  {
   "cell_type": "code",
   "execution_count": 93,
   "metadata": {},
   "outputs": [],
   "source": [
    "predictions = model.predict_classes(X_test_transformer)"
   ]
  },
  {
   "cell_type": "code",
   "execution_count": 94,
   "metadata": {},
   "outputs": [
    {
     "data": {
      "text/plain": [
       "array([0, 1, 0, 1, 2, 0, 2, 0, 1, 1, 0, 2, 0, 2, 0, 2, 2, 2, 2, 2, 2, 0,\n",
       "       1, 1, 0, 1, 0, 1, 2, 0, 2, 0, 1, 1, 1, 1, 2, 2, 0, 0, 0, 2, 1, 2,\n",
       "       2, 0, 2, 0, 2, 0, 2, 2, 0, 0, 0, 0, 1, 0, 0, 2, 2, 2, 2, 0, 2, 2,\n",
       "       2, 1, 0, 1, 0, 0, 0, 1, 0, 2, 0, 0, 0], dtype=int64)"
      ]
     },
     "execution_count": 94,
     "metadata": {},
     "output_type": "execute_result"
    }
   ],
   "source": [
    "predictions"
   ]
  },
  {
   "cell_type": "code",
   "execution_count": 95,
   "metadata": {},
   "outputs": [
    {
     "data": {
      "text/plain": [
       "array([1, 0, 1, 0, 2, 1, 2, 1, 0, 0, 1, 2, 1, 2, 0, 2, 2, 2, 2, 2, 2, 1,\n",
       "       0, 0, 1, 0, 0, 0, 2, 1, 2, 1, 0, 0, 0, 0, 2, 2, 0, 1, 1, 2, 0, 2,\n",
       "       2, 1, 2, 1, 2, 0, 2, 2, 1, 1, 1, 1, 0, 1, 1, 2, 2, 2, 2, 0, 2, 2,\n",
       "       2, 0, 1, 0, 1, 1, 0, 0, 0, 2, 1, 1, 1], dtype=int64)"
      ]
     },
     "execution_count": 95,
     "metadata": {},
     "output_type": "execute_result"
    }
   ],
   "source": [
    "encoded_y_test.argmax(axis=1)"
   ]
  },
  {
   "cell_type": "code",
   "execution_count": 96,
   "metadata": {},
   "outputs": [
    {
     "data": {
      "text/plain": [
       "array([[ 7, 17,  0],\n",
       "       [26,  0,  0],\n",
       "       [ 0,  0, 29]], dtype=int64)"
      ]
     },
     "execution_count": 96,
     "metadata": {},
     "output_type": "execute_result"
    }
   ],
   "source": [
    "confusion_matrix(encoded_y_test.argmax(axis=1),predictions)"
   ]
  },
  {
   "cell_type": "code",
   "execution_count": 97,
   "metadata": {},
   "outputs": [
    {
     "name": "stdout",
     "output_type": "stream",
     "text": [
      "              precision    recall  f1-score   support\n",
      "\n",
      "           0       0.21      0.29      0.25        24\n",
      "           1       0.00      0.00      0.00        26\n",
      "           2       1.00      1.00      1.00        29\n",
      "\n",
      "   micro avg       0.46      0.46      0.46        79\n",
      "   macro avg       0.40      0.43      0.42        79\n",
      "weighted avg       0.43      0.46      0.44        79\n",
      "\n"
     ]
    }
   ],
   "source": [
    "print(classification_report(encoded_y_test.argmax(axis=1),predictions))"
   ]
  },
  {
   "cell_type": "code",
   "execution_count": 98,
   "metadata": {},
   "outputs": [],
   "source": [
    "model.save('LanguageIdentification.h5')"
   ]
  }
 ],
 "metadata": {
  "kernelspec": {
   "display_name": "Python 3",
   "language": "python",
   "name": "python3"
  },
  "language_info": {
   "codemirror_mode": {
    "name": "ipython",
    "version": 3
   },
   "file_extension": ".py",
   "mimetype": "text/x-python",
   "name": "python",
   "nbconvert_exporter": "python",
   "pygments_lexer": "ipython3",
   "version": "3.6.8"
  }
 },
 "nbformat": 4,
 "nbformat_minor": 2
}
